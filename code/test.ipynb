{
 "cells": [
  {
   "cell_type": "code",
   "execution_count": 6,
   "metadata": {},
   "outputs": [],
   "source": [
    "from functions import *"
   ]
  },
  {
   "cell_type": "code",
   "execution_count": 7,
   "metadata": {},
   "outputs": [
    {
     "name": "stdout",
     "output_type": "stream",
     "text": [
      "Searching for instruments...\n",
      "\n",
      "('USB0::0x0A2D::0x001B::09295879::RAW', 'USB0::0x0AAD::0x01E6::101296::INSTR', 'ASRL1::INSTR', 'ASRL3::INSTR')\n",
      "Lock-in found\n",
      "\n",
      "VNA found\n",
      "VISA Manufacturer: National Instruments\n",
      "Hello, I am Rohde-Schwarz,ZNB8-2Port,1334333042101296,3.32\n",
      "ASLR found\n",
      "\n",
      "ASLR found\n",
      "\n",
      "VNA found: 1\n",
      "Lock-in found: 1\n",
      "ASLR found: 2\n",
      "SG found: 0\n",
      "No SG found, please check the connections\n"
     ]
    },
    {
     "ename": "TypeError",
     "evalue": "set_start_freq() missing 1 required positional argument: 'start_freq'",
     "output_type": "error",
     "traceback": [
      "\u001b[1;31m---------------------------------------------------------------------------\u001b[0m",
      "\u001b[1;31mTypeError\u001b[0m                                 Traceback (most recent call last)",
      "\u001b[1;32m<ipython-input-7-df15fcf620f5>\u001b[0m in \u001b[0;36m<module>\u001b[1;34m\u001b[0m\n\u001b[0;32m      6\u001b[0m \u001b[0mvolt_points\u001b[0m \u001b[1;33m=\u001b[0m \u001b[1;36m501\u001b[0m\u001b[1;33m\u001b[0m\u001b[1;33m\u001b[0m\u001b[0m\n\u001b[0;32m      7\u001b[0m \u001b[1;33m\u001b[0m\u001b[0m\n\u001b[1;32m----> 8\u001b[1;33m \u001b[0mmeasurement\u001b[0m\u001b[1;33m(\u001b[0m\u001b[0mfreq_start\u001b[0m\u001b[1;33m,\u001b[0m \u001b[0mfreq_stop\u001b[0m\u001b[1;33m,\u001b[0m \u001b[0mfreq_points\u001b[0m\u001b[1;33m,\u001b[0m \u001b[0mvolt_start\u001b[0m\u001b[1;33m,\u001b[0m \u001b[0mvolt_stop\u001b[0m\u001b[1;33m,\u001b[0m \u001b[0mvolt_points\u001b[0m\u001b[1;33m,\u001b[0m\u001b[0mavg\u001b[0m\u001b[1;33m=\u001b[0m\u001b[1;36m1\u001b[0m\u001b[1;33m,\u001b[0m \u001b[0mfilename\u001b[0m\u001b[1;33m=\u001b[0m\u001b[1;34m\"Test_24-10-08\"\u001b[0m\u001b[1;33m,\u001b[0m \u001b[0mplot\u001b[0m\u001b[1;33m=\u001b[0m\u001b[1;32mTrue\u001b[0m\u001b[1;33m)\u001b[0m\u001b[1;33m\u001b[0m\u001b[1;33m\u001b[0m\u001b[0m\n\u001b[0m",
      "\u001b[1;32mc:\\Users\\Administrator\\Desktop\\cavity_magnonics_TP4\\code\\functions.py\u001b[0m in \u001b[0;36mmeasurement\u001b[1;34m(freq_start, freq_stop, freq_points, volt_start, volt_stop, volt_points, field_start, field_stop, field_points, field_calibration, lockin_func, avg, filename, plot)\u001b[0m\n\u001b[0;32m    391\u001b[0m     \u001b[0mset_start_freq\u001b[0m\u001b[1;33m(\u001b[0m\u001b[0mznb\u001b[0m\u001b[1;33m,\u001b[0m\u001b[0mfreq_start\u001b[0m\u001b[1;33m)\u001b[0m\u001b[1;33m\u001b[0m\u001b[1;33m\u001b[0m\u001b[0m\n\u001b[0;32m    392\u001b[0m     \u001b[0mset_stop_freq\u001b[0m\u001b[1;33m(\u001b[0m\u001b[0mznb\u001b[0m\u001b[1;33m,\u001b[0m\u001b[0mfreq_stop\u001b[0m\u001b[1;33m)\u001b[0m\u001b[1;33m\u001b[0m\u001b[1;33m\u001b[0m\u001b[0m\n\u001b[1;32m--> 393\u001b[1;33m     \u001b[0mset_sweep_points\u001b[0m\u001b[1;33m(\u001b[0m\u001b[0mznb\u001b[0m\u001b[1;33m,\u001b[0m\u001b[0mfreq_points\u001b[0m\u001b[1;33m)\u001b[0m\u001b[1;33m\u001b[0m\u001b[1;33m\u001b[0m\u001b[0m\n\u001b[0m\u001b[0;32m    394\u001b[0m     \u001b[0mznb\u001b[0m\u001b[1;33m.\u001b[0m\u001b[0mwrite_str\u001b[0m\u001b[1;33m(\u001b[0m\u001b[1;34m'INITiate1:CONTinuous 0'\u001b[0m\u001b[1;33m)\u001b[0m\u001b[1;33m\u001b[0m\u001b[1;33m\u001b[0m\u001b[0m\n\u001b[0;32m    395\u001b[0m     \u001b[0maverage\u001b[0m\u001b[1;33m(\u001b[0m\u001b[0mznb\u001b[0m\u001b[1;33m,\u001b[0m\u001b[0mavg\u001b[0m\u001b[1;33m)\u001b[0m\u001b[1;33m\u001b[0m\u001b[1;33m\u001b[0m\u001b[0m\n",
      "\u001b[1;31mTypeError\u001b[0m: set_start_freq() missing 1 required positional argument: 'start_freq'"
     ]
    }
   ],
   "source": [
    "freq_start = 2.2e9\n",
    "freq_stop = 2.5e9\n",
    "freq_points = 4001\n",
    "volt_start = 0.2\n",
    "volt_stop = 10\n",
    "volt_points = 501\n",
    "\n",
    "measurement(freq_start, freq_stop, freq_points, volt_start, volt_stop, volt_points,avg=1, filename=\"Test_24-10-08\", plot=True)"
   ]
  },
  {
   "cell_type": "code",
   "execution_count": null,
   "metadata": {},
   "outputs": [],
   "source": [
    "close()"
   ]
  }
 ],
 "metadata": {
  "kernelspec": {
   "display_name": "base",
   "language": "python",
   "name": "python3"
  },
  "language_info": {
   "codemirror_mode": {
    "name": "ipython",
    "version": 3
   },
   "file_extension": ".py",
   "mimetype": "text/x-python",
   "name": "python",
   "nbconvert_exporter": "python",
   "pygments_lexer": "ipython3",
   "version": "3.7.3"
  }
 },
 "nbformat": 4,
 "nbformat_minor": 2
}
