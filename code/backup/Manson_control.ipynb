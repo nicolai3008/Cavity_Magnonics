{
 "cells": [
  {
   "cell_type": "code",
   "execution_count": 2,
   "metadata": {},
   "outputs": [],
   "source": [
    "from pathlib import Path\n",
    "import sys\n",
    "home = str(Path.home())\n",
    "sys.path.insert(0, home+\"//Desktop//python_libraries//VISA\")\n",
    "import pyvisa\n",
    "import time\n",
    "import numpy as np\n",
    "import matplotlib.pyplot as plt"
   ]
  },
  {
   "cell_type": "code",
   "execution_count": 3,
   "metadata": {},
   "outputs": [
    {
     "data": {
      "text/plain": [
       "('USB0::0x0AAD::0x01C0::101762::INSTR', 'ASRL1::INSTR', 'ASRL5::INSTR')"
      ]
     },
     "execution_count": 3,
     "metadata": {},
     "output_type": "execute_result"
    }
   ],
   "source": [
    "rm = pyvisa.ResourceManager()\n",
    "rm.list_resources()"
   ]
  },
  {
   "cell_type": "code",
   "execution_count": 3,
   "metadata": {},
   "outputs": [],
   "source": [
    "com3 = rm.open_resource('ASRL3::INSTR')\n",
    "com3.write_termination = '\\r'\n",
    "com3.read_termination = '\\r'"
   ]
  },
  {
   "cell_type": "code",
   "execution_count": 4,
   "metadata": {},
   "outputs": [],
   "source": [
    "com4 = rm.open_resource('ASRL4::INSTR')\n",
    "com4.write_termination = '\\r'\n",
    "com4.read_termination = '\\r'"
   ]
  },
  {
   "cell_type": "code",
   "execution_count": 5,
   "metadata": {},
   "outputs": [],
   "source": [
    "com5 = rm.open_resource('ASRL5::INSTR')\n",
    "com5.write_termination = '\\r'\n",
    "com5.read_termination = '\\r'"
   ]
  },
  {
   "cell_type": "code",
   "execution_count": 6,
   "metadata": {},
   "outputs": [
    {
     "data": {
      "text/plain": [
       "(8, <StatusCode.success: 0>)"
      ]
     },
     "execution_count": 6,
     "metadata": {},
     "output_type": "execute_result"
    }
   ],
   "source": [
    "com3.write('CURR000')\n",
    "com4.write('CURR000')\n",
    "com5.write('CURR000')"
   ]
  },
  {
   "cell_type": "code",
   "execution_count": 9,
   "metadata": {},
   "outputs": [
    {
     "data": {
      "text/plain": [
       "(8, <StatusCode.success: 0>)"
      ]
     },
     "execution_count": 9,
     "metadata": {},
     "output_type": "execute_result"
    }
   ],
   "source": [
    "curr = 1.2\n",
    "com3.write('CURR'+ f'{int(curr*10):03}')\n",
    "com4.write('CURR'+ f'{int(curr*10):03}')\n",
    "com5.write('CURR'+ f'{int(curr*10):03}')"
   ]
  },
  {
   "cell_type": "code",
   "execution_count": 12,
   "metadata": {},
   "outputs": [
    {
     "data": {
      "text/plain": [
       "(8, <StatusCode.success: 0>)"
      ]
     },
     "execution_count": 12,
     "metadata": {},
     "output_type": "execute_result"
    }
   ],
   "source": [
    "volt = 3.0\n",
    "com3.write('VOLT'+ f'{int(volt*10):03}')\n",
    "com4.write('VOLT'+ f'{int(volt*10):03}')\n",
    "com5.write('VOLT'+ f'{int(volt*10):03}')"
   ]
  },
  {
   "cell_type": "markdown",
   "metadata": {},
   "source": [
    "# B/I ratio:"
   ]
  },
  {
   "cell_type": "code",
   "execution_count": 3,
   "metadata": {},
   "outputs": [
    {
     "data": {
      "text/plain": [
       "[<matplotlib.lines.Line2D at 0x29502e4af98>]"
      ]
     },
     "execution_count": 3,
     "metadata": {},
     "output_type": "execute_result"
    },
    {
     "data": {
      "image/png": "[encoded data removed]",
      "text/plain": [
       "<Figure size 432x288 with 1 Axes>"
      ]
     },
     "metadata": {
      "needs_background": "light"
     },
     "output_type": "display_data"
    }
   ],
   "source": [
    "current = np.arange(0.1, 0.9, 0.1)\n",
    "field = [3, 4.92, 6.8, 9.09, 11.61, 13.89, 16.67, 18.9]\n",
    "plt.close()\n",
    "plt.plot(current, field)"
   ]
  },
  {
   "cell_type": "code",
   "execution_count": 4,
   "metadata": {},
   "outputs": [
    {
     "name": "stdout",
     "output_type": "stream",
     "text": [
      "[23.07619048  0.22571429]\n"
     ]
    }
   ],
   "source": [
    "print(np.polyfit(current, field, 1))"
   ]
  },
  {
   "cell_type": "markdown",
   "metadata": {},
   "source": [
    "# Temperature evolution:"
   ]
  },
  {
   "cell_type": "code",
   "execution_count": null,
   "metadata": {},
   "outputs": [],
   "source": [
    "time = [0, 6.75, 10, 15, 20, 24, 30.5, 36, 39.6, 45.5, 49.6, 57, 59.6, 66, 71, 77, 80, 84.5, 89.5, 95.5]\n",
    "temp = [20.8, 21.7, 22.2, 23.0, 23.3, 25.3, 27, 28.4, 29.4, 33.0, 34.4, 37.5, 38.5, 47, 52.1, 56.6, 60.5, 62.4, 68, 73.5]\n",
    "plt.close()\n",
    "plt.plot(time, temp)\n",
    "plt.show()"
   ]
  },
  {
   "cell_type": "markdown",
   "metadata": {},
   "source": [
    "# Testing:"
   ]
  },
  {
   "cell_type": "code",
   "execution_count": null,
   "metadata": {},
   "outputs": [],
   "source": [
    "def purge(inst):\n",
    "    i = 0\n",
    "    while True:\n",
    "        try:\n",
    "            inst.read_bytes(1)\n",
    "            i += 1\n",
    "        except:\n",
    "            break\n",
    "        \n",
    "    return i"
   ]
  },
  {
   "cell_type": "code",
   "execution_count": null,
   "metadata": {},
   "outputs": [],
   "source": [
    "m3 = purge(com3)\n",
    "m4 = purge(com4)\n",
    "m5 = purge(com5)\n",
    "print(\"deleted \" + str(m3) + \" bytes from com3\")\n",
    "print(\"deleted \" + str(m4) + \" bytes from com4\")\n",
    "print(\"deleted \" + str(m5) + \" bytes from com5\")"
   ]
  },
  {
   "cell_type": "code",
   "execution_count": null,
   "metadata": {},
   "outputs": [],
   "source": [
    "def set_field(field, offset = 0.23): #field is measured in mT\n",
    "    current = (field-offset)/23\n",
    "    stat3 = com3.query(\"GETD\")\n",
    "    stat4 = com4.query(\"GETD\")\n",
    "    stat5 = com5.query(\"GETD\")\n",
    "    com3.read_bytes(3)\n",
    "    com4.read_bytes(3) #necessary to get rid of the \"OK\\r\"\n",
    "    com5.read_bytes(3)\n",
    "    \n",
    "    if stat3[-1] == "
   ]
  },
  {
   "cell_type": "code",
   "execution_count": null,
   "metadata": {},
   "outputs": [],
   "source": [
    "com3.write(\"VOLT025\")\n",
    "com3.read_bytes(3)\n",
    "com3.write(\"CURR030\")"
   ]
  }
 ],
 "metadata": {
  "kernelspec": {
   "display_name": "Python 3",
   "language": "python",
   "name": "python3"
  },
  "language_info": {
   "codemirror_mode": {
    "name": "ipython",
    "version": 3
   },
   "file_extension": ".py",
   "mimetype": "text/x-python",
   "name": "python",
   "nbconvert_exporter": "python",
   "pygments_lexer": "ipython3",
   "version": "3.7.3"
  }
 },
 "nbformat": 4,
 "nbformat_minor": 2
}
