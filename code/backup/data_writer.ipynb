{
 "cells": [
  {
   "cell_type": "markdown",
   "metadata": {},
   "source": [
    "# Imports and functions:"
   ]
  },
  {
   "cell_type": "code",
   "execution_count": 1,
   "metadata": {},
   "outputs": [],
   "source": [
    "import numpy as np\n",
    "import os# to handle files in the folder\n",
    "from RsInstrument import *#<- both this or the above command works to import RsInstrument even if spyder complins about this one\n",
    "from time import sleep\n",
    "import matplotlib.pyplot as plt\n",
    "import re"
   ]
  },
  {
   "cell_type": "code",
   "execution_count": 2,
   "metadata": {},
   "outputs": [],
   "source": [
    "from pathlib import Path\n",
    "import sys\n",
    "home = str(Path.home())\n",
    "sys.path.insert(0, home+\"//Desktop//python_libraries//VISA\")\n",
    "import pyvisa"
   ]
  },
  {
   "cell_type": "code",
   "execution_count": 3,
   "metadata": {},
   "outputs": [],
   "source": [
    "%run ./command_lybrary.ipynb #change instrument adress in command_lybrary.ipynb if necessary"
   ]
  },
  {
   "cell_type": "code",
   "execution_count": 4,
   "metadata": {},
   "outputs": [],
   "source": [
    "def purge(inst):\n",
    "    i = 0\n",
    "    while True:\n",
    "        try:\n",
    "            inst.read_bytes(1)\n",
    "            i += 1\n",
    "        except:\n",
    "            break\n",
    "        \n",
    "    return i"
   ]
  },
  {
   "cell_type": "code",
   "execution_count": 5,
   "metadata": {},
   "outputs": [],
   "source": [
    "def clean_term(x):\n",
    "    aux = repr(x)\n",
    "    aux = re.sub('\\\\\\\\n\\\\\\\\.*', '', aux)[1:]\n",
    "    return aux"
   ]
  },
  {
   "cell_type": "code",
   "execution_count": 6,
   "metadata": {},
   "outputs": [],
   "source": [
    "filepath = \"C:/Users/Administrator/Desktop/cavity_magnonics_TP4/data/\"\n",
    "\n",
    "def measurement(freq, f_pts, volt, v_pts, filename, avg = 1):\n",
    "    \n",
    "    PcFile=filepath+filename\n",
    "    \n",
    "    set_start_freq(freq[0])\n",
    "    set_stop_freq(freq[1])\n",
    "    set_sweep_points(f_pts)\n",
    "    volt_sweep = np.linspace(volt[0], volt[1], v_pts)\n",
    "    \n",
    "    znb.write_str('INITiate1:CONTinuous 0')\n",
    "    average(avg)\n",
    "    \n",
    "    isFile = os.path.isfile(PcFile)\n",
    "    if isFile:\n",
    "        print('file ', filename,' already exists, chose another name')\n",
    "    else:\n",
    "        \n",
    "        #purge(com3)\n",
    "        #purge(com4)\n",
    "        purge(com5)\n",
    "        \n",
    "        #com3.write('CURR040')\n",
    "        #com4.write('CURR040') \n",
    "        com5.write('CURR050')\n",
    "            \n",
    "        #com3.read_bytes(3)\n",
    "        #com4.read_bytes(3) #necessary to get rid of the \"OK\\r\"\n",
    "        com5.read_bytes(3)\n",
    "        \n",
    "        #com3.write('VOLT010')\n",
    "        #com4.write('VOLT010') \n",
    "        com5.write('VOLT010')\n",
    "            \n",
    "        #com3.read_bytes(3)\n",
    "        #com4.read_bytes(3) #necessary to get rid of the \"OK\\r\"\n",
    "        com5.read_bytes(3)\n",
    "        \n",
    "        \n",
    "        Data_file = open(PcFile, \"w\")\n",
    "        Data_file.write('Time;Display;Averages;Field[mT];Frequencies[Hz];RealandImaginary\\n')\n",
    "        \n",
    "        for volt in volt_sweep:\n",
    "            \n",
    "            #print(field)\n",
    "            #com3.write('VOLT' + f'{int(volt*10):03}')\n",
    "            #com4.write('VOLT' + f'{int(volt*10):03}') \n",
    "            com5.write('VOLT' + f'{int(volt*10):03}')\n",
    "            \n",
    "            #com3.read_bytes(3)\n",
    "            #com4.read_bytes(3) #necessary to get rid of the \"OK\\r\"\n",
    "            com5.read_bytes(3)\n",
    "            #set_current(field)\n",
    "            \n",
    "            sleep(1)\n",
    "            #disp3 = com3.query(\"GETD\")\n",
    "            #com3.read_bytes(3)\n",
    "            #disp4 = com4.query(\"GETD\")\n",
    "            #com4.read_bytes(3)\n",
    "            disp5 = com5.query(\"GETD\")\n",
    "            com5.read_bytes(3)\n",
    "            \n",
    "            field = (22015.862*float(clean_term(lockin.query('MAG.')))-28402.895)/10 #field in mT input 4 (+) and 2 (gnd) output 1 and 3\n",
    "            znb.write_str(\"INITiate:IMMediate:ALL\")\n",
    "            znb.query_opc()\n",
    "            \n",
    "            freq_str=znb.query_str('CALC:DATA:STIM?')#get the string of the stimulus frequencies\n",
    "            trace_str=znb.query_str('CALC1:DATA? SDAT')# the string is written as Re(S_point1),Im(S_point1),Re(S_point2)....\n",
    "            time=znb.query_str('SYSTem:TIME?').replace(\",\",\":\")\n",
    "            \n",
    "            #Data_file.write(str(time)+\";\"+str(disp3) +\",\"+str(disp4)+\",\"+str(disp5)+\";\"+str(avg)+\";\"+str(field)+\";\"+str(freq_str)+\";\"+str(trace_str)+\"\\n\")\n",
    "            Data_file.write(str(time)+\";\"+str(disp5)+\";\"+str(avg)+\";\"+str(field)+\";\"+str(freq_str)+\";\"+str(trace_str)+\"\\n\")\n",
    "            \n",
    "    Data_file.close()\n",
    "    #com3.write(\"CURR000\")\n",
    "    #com4.write(\"CURR000\")\n",
    "    com5.write(\"CURR000\")\n",
    "    #com3.read_bytes(3)\n",
    "    #com4.read_bytes(3) #necessary to get rid of the \"OK\\r\"\n",
    "    com5.read_bytes(3)\n",
    "    #close()# close communicatin with VNA\n",
    "    print(\"file has succesfully been created :)\")"
   ]
  },
  {
   "cell_type": "markdown",
   "metadata": {},
   "source": [
    "# ZNB prep:"
   ]
  },
  {
   "cell_type": "code",
   "execution_count": 7,
   "metadata": {},
   "outputs": [
    {
     "name": "stdout",
     "output_type": "stream",
     "text": [
      "VISA Manufacturer: National Instruments\n"
     ]
    }
   ],
   "source": [
    "com_prep()"
   ]
  },
  {
   "cell_type": "code",
   "execution_count": 8,
   "metadata": {},
   "outputs": [
    {
     "name": "stdout",
     "output_type": "stream",
     "text": [
      "Hello, I am Rohde-Schwarz,ZNB40-4Port,1311601084101762,3.32\n"
     ]
    }
   ],
   "source": [
    "com_check()"
   ]
  },
  {
   "cell_type": "markdown",
   "metadata": {},
   "source": [
    "# Manson prep:"
   ]
  },
  {
   "cell_type": "code",
   "execution_count": 34,
   "metadata": {},
   "outputs": [
    {
     "data": {
      "text/plain": [
       "('USB0::0x0A2D::0x001B::09295879::RAW',\n",
       " 'USB0::0x0AAD::0x01C0::101762::INSTR',\n",
       " 'ASRL1::INSTR',\n",
       " 'ASRL5::INSTR')"
      ]
     },
     "execution_count": 34,
     "metadata": {},
     "output_type": "execute_result"
    }
   ],
   "source": [
    "rm = pyvisa.ResourceManager()\n",
    "rm.list_resources('?*')"
   ]
  },
  {
   "cell_type": "code",
   "execution_count": 16,
   "metadata": {},
   "outputs": [],
   "source": [
    "com4 = rm.open_resource('ASRL4::INSTR')\n",
    "com4.write_termination = '\\r'\n",
    "com4.read_termination = '\\r'"
   ]
  },
  {
   "cell_type": "code",
   "execution_count": 12,
   "metadata": {},
   "outputs": [],
   "source": [
    "com5 = rm.open_resource('ASRL5::INSTR')\n",
    "com5.write_termination = '\\r'\n",
    "com5.read_termination = '\\r'"
   ]
  },
  {
   "cell_type": "code",
   "execution_count": 15,
   "metadata": {},
   "outputs": [
    {
     "name": "stdout",
     "output_type": "stream",
     "text": [
      "0.0001\n"
     ]
    }
   ],
   "source": [
    "lockin = rm.open_resource('USB0::0x0A2D::0x001B::09295879::RAW')\n",
    "print(float(clean_term(lockin.query('MAG.'))))"
   ]
  },
  {
   "cell_type": "markdown",
   "metadata": {},
   "source": [
    "# Data aquisition:"
   ]
  },
  {
   "cell_type": "code",
   "execution_count": 16,
   "metadata": {},
   "outputs": [
    {
     "name": "stdout",
     "output_type": "stream",
     "text": [
      "file has succesfully been created :)\n"
     ]
    }
   ],
   "source": [
    "measurement([1.85e9, 2.85e9], 20000, [20,60], 400,\"yig_quarterturn2.csv\")"
   ]
  },
  {
   "cell_type": "markdown",
   "metadata": {},
   "source": [
    "# Testing:"
   ]
  },
  {
   "cell_type": "code",
   "execution_count": null,
   "metadata": {},
   "outputs": [],
   "source": [
    "field = (22015.862*float(clean_term(lockin.query('MAG.')))-28402.895)/10\n",
    "print(float(field))"
   ]
  },
  {
   "cell_type": "code",
   "execution_count": 30,
   "metadata": {},
   "outputs": [
    {
     "data": {
      "text/plain": [
       "18"
      ]
     },
     "execution_count": 30,
     "metadata": {},
     "output_type": "execute_result"
    }
   ],
   "source": [
    "purge(com5)"
   ]
  },
  {
   "cell_type": "code",
   "execution_count": 22,
   "metadata": {},
   "outputs": [
    {
     "data": {
      "text/plain": [
       "8"
      ]
     },
     "execution_count": 22,
     "metadata": {},
     "output_type": "execute_result"
    }
   ],
   "source": [
    "com5.write(\"VOLT100\")"
   ]
  },
  {
   "cell_type": "code",
   "execution_count": null,
   "metadata": {},
   "outputs": [],
   "source": [
    "avg =10\n",
    "average(avg)\n",
    "sweep_time=float(znb.query_str('SWEep:TIME?'))\n",
    "znb.write_str('INITiate1:CONTinuous 1')\n",
    "sleep(sweep_time*avg*1.25)\n",
    "znb.write_str('INITiate1:CONTinuous 0')"
   ]
  },
  {
   "cell_type": "code",
   "execution_count": null,
   "metadata": {},
   "outputs": [],
   "source": [
    "znb.write_str(\"INITiate:IMMediate:ALL\")\n",
    "znb.query_opc()\n",
    "print(\"done!\")"
   ]
  },
  {
   "cell_type": "code",
   "execution_count": null,
   "metadata": {},
   "outputs": [],
   "source": [
    "freq_str=znb.query_str('CALC:DATA:STIM?')#get the string of the stimulus frequencies\n",
    "freq_tup = tuple(map(float, freq_str.split(',')))  # Convert the received string into a tuple\n",
    "trace_str=znb.query_str('CALC1:DATA? SDAT')# get the string of the measure real and immaginary part of the measured parameter\n",
    "                                            # the list is written as Re(S_point1),Im(S_point1),Re(S_point2)....\n",
    "trace_tup = tuple(map(float, trace_str.split(',')))  # Convert the received string into a tuple\n",
    "Re_trace_tup = trace_tup[::2]\n",
    "Im_trace_tup = trace_tup[1::2]"
   ]
  },
  {
   "cell_type": "code",
   "execution_count": null,
   "metadata": {},
   "outputs": [],
   "source": [
    "print(len(freq_tup), len(Re_trace_tup), len(Im_trace_tup))"
   ]
  },
  {
   "cell_type": "code",
   "execution_count": null,
   "metadata": {},
   "outputs": [],
   "source": [
    "plt.close()\n",
    "plt.plot(freq_tup, Re_trace_tup, label = \"Real part\")\n",
    "plt.plot(freq_tup, Im_trace_tup, label = \"Imaginary part\")\n",
    "plt.legend()\n",
    "plt.show()"
   ]
  },
  {
   "cell_type": "code",
   "execution_count": null,
   "metadata": {},
   "outputs": [],
   "source": [
    "amp_tup = tuple((np.array(Re_trace_tup)**2 + np.array(Im_trace_tup)**2)**0.5)\n",
    "plt.close()\n",
    "plt.plot(freq_tup, amp_tup)\n",
    "plt.show()"
   ]
  },
  {
   "cell_type": "code",
   "execution_count": null,
   "metadata": {},
   "outputs": [],
   "source": [
    "for i in range(990, 1010):\n",
    "    print(f'{i:03}')"
   ]
  },
  {
   "cell_type": "code",
   "execution_count": 33,
   "metadata": {},
   "outputs": [
    {
     "data": {
      "text/plain": [
       "8"
      ]
     },
     "execution_count": 33,
     "metadata": {},
     "output_type": "execute_result"
    }
   ],
   "source": [
    "com4.write(\"CURR000\")\n",
    "com5.write(\"CURR000\")"
   ]
  },
  {
   "cell_type": "code",
   "execution_count": 31,
   "metadata": {},
   "outputs": [
    {
     "data": {
      "text/plain": [
       "8"
      ]
     },
     "execution_count": 31,
     "metadata": {},
     "output_type": "execute_result"
    }
   ],
   "source": [
    "com4.write(\"VOLT000\")\n",
    "com5.write(\"VOLT000\")"
   ]
  },
  {
   "cell_type": "code",
   "execution_count": null,
   "metadata": {},
   "outputs": [],
   "source": [
    "field = 1.2\n",
    "\n",
    "com3.write('CURR' + f'{int(field*10):03}')\n",
    "com4.write('CURR' + f'{int(field*10):03}')\n",
    "com5.write('CURR' + f'{int(field*10):03}')\n",
    "            \n",
    "com3.read_bytes(3)\n",
    "com4.read_bytes(3) #necessary to get rid of the \"OK\\r\"\n",
    "com5.read_bytes(3)\n",
    "            \n",
    "sleep(30)\n",
    "resp3 = com3.query(\"GETD\")[5:9]\n",
    "com3.read_bytes(3)\n",
    "            \n",
    "znb.write_str(\"INITiate:IMMediate:ALL\")\n",
    "znb.query_opc()\n",
    "            \n",
    "freq_str=znb.query_str('CALC:DATA:STIM?')#get the string of the stimulus frequencies\n",
    "trace_str=znb.query_str('CALC1:DATA? SDAT')# the string is written as Re(S_point1),Im(S_point1),Re(S_point2)....\n",
    "time=znb.query_str('SYSTem:TIME?').replace(\",\",\":\")"
   ]
  },
  {
   "cell_type": "code",
   "execution_count": null,
   "metadata": {},
   "outputs": [],
   "source": [
    "import pandas as pd"
   ]
  },
  {
   "cell_type": "code",
   "execution_count": null,
   "metadata": {},
   "outputs": [],
   "source": [
    "filepath = \"C:/Users/Administrator/Desktop/cavity_magnonics_TP4/OneDrive_1_4-22-2024/\"\n",
    "filename = \"calbration_curve_input2and3_output4to1.csv\"\n",
    "PcFile=filepath+filename\n",
    "data = pd.read_csv(PcFile,sep=',')\n",
    "oe = data[\"field[Oe]\"]\n",
    "r = data[\"R [V]\"]\n",
    "print(np.polyfit(r, oe, 1))"
   ]
  },
  {
   "cell_type": "code",
   "execution_count": null,
   "metadata": {},
   "outputs": [],
   "source": [
    "filepath = \"C:/Users/Administrator/Desktop/cavity_magnonics_TP4/OneDrive_1_4-22-2024/\"\n",
    "filename = \"calibration_curve_input1and2_output_3and4.csv\"\n",
    "PcFile=filepath+filename\n",
    "data = pd.read_csv(PcFile,sep=',')\n",
    "oe = data[\"field[Oe]\"]\n",
    "r = data[\"R [V]\"]\n",
    "print(np.polyfit(r, oe, 1))"
   ]
  },
  {
   "cell_type": "code",
   "execution_count": null,
   "metadata": {},
   "outputs": [],
   "source": [
    "filepath = \"C:/Users/Administrator/Desktop/cavity_magnonics_TP4/OneDrive_1_4-22-2024/\"\n",
    "filename = \"calibration_curve_input2and4_output3to1.csv\"\n",
    "PcFile=filepath+filename\n",
    "data = pd.read_csv(PcFile,sep=',')\n",
    "oe = data[\"field[Oe]\"]\n",
    "r = data[\"R [V]\"]\n",
    "print(np.polyfit(r, oe, 1))"
   ]
  },
  {
   "cell_type": "code",
   "execution_count": null,
   "metadata": {},
   "outputs": [],
   "source": [
    "def set_current(curr):\n",
    "    com3.write(\"VOLT200\")\n",
    "    com4.write(\"VOLT200\")\n",
    "    com5.write(\"VOLT200\")\n",
    "    com3.read_bytes(3)\n",
    "    com4.read_bytes(3) #necessary to get rid of the \"OK\\r\"\n",
    "    com5.read_bytes(3)\n",
    "    \n",
    "    com3.write(\"CURR\" + f'{int(curr*10):03}')\n",
    "    com4.write(\"CURR\" + f'{int(curr*10):03}')\n",
    "    com5.write(\"CURR\" + f'{int(curr*10):03}')\n",
    "    com3.read_bytes(3)\n",
    "    com4.read_bytes(3) #necessary to get rid of the \"OK\\r\"\n",
    "    com5.read_bytes(3)\n",
    "    \n",
    "    sleep(0.5)\n",
    "    v3 = com3.query(\"GETD\")[:3]\n",
    "    com3.read_bytes(3)\n",
    "    com3.write(\"VOLT\"+v3)\n",
    "    com3.read_bytes(3)\n",
    "    v4 = com4.query(\"GETD\")[:3]\n",
    "    com4.read_bytes(3)\n",
    "    com4.write(\"VOLT\"+v4)\n",
    "    com4.read_bytes(3)\n",
    "    v5 = com5.query(\"GETD\")[:3]\n",
    "    com5.read_bytes(3)\n",
    "    com5.write(\"VOLT\"+v5)\n",
    "    com5.read_bytes(3)"
   ]
  }
 ],
 "metadata": {
  "kernelspec": {
   "display_name": "Python 3",
   "language": "python",
   "name": "python3"
  },
  "language_info": {
   "codemirror_mode": {
    "name": "ipython",
    "version": 3
   },
   "file_extension": ".py",
   "mimetype": "text/x-python",
   "name": "python",
   "nbconvert_exporter": "python",
   "pygments_lexer": "ipython3",
   "version": "3.7.3"
  }
 },
 "nbformat": 4,
 "nbformat_minor": 2
}
